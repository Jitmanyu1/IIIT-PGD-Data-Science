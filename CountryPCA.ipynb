{
 "cells": [
  {
   "cell_type": "markdown",
   "metadata": {},
   "source": [
    "# Problem statement\n",
    "\n",
    "HELP International is an international humanitarian NGO which is committed to fight poverty and providing the people of backward countries with basic amenities and relief during the time of disasters and natural calamities. It runs a lot of operational projects along with advocacy drives to raise awareness as well as for funding purposes.\n",
    "\n",
    "After the recent project that included a lot of awareness drives and funding programmes, they have been able to raise around $ 10 million. Now the CEO of the NGO needs to decide how to use this money strategically and effectively. The significant issues that come while making this decision are mostly related to choosing the countries that are in the dire need of aid.\n",
    "\n",
    "As a data analyst it is necessary to categorise the countries on the basis of socio-economic and health factors and suggest to the CEO those countries which are dire need of aid."
   ]
  },
  {
   "cell_type": "markdown",
   "metadata": {},
   "source": [
    "### Reading,understanding and visualizing Data"
   ]
  },
  {
   "cell_type": "code",
   "execution_count": 1,
   "metadata": {},
   "outputs": [],
   "source": [
    "import numpy as np\n",
    "import pandas as pd\n",
    "import matplotlib.pyplot as plt\n",
    "import seaborn as sns\n",
    "from matplotlib.pyplot import xticks\n",
    "%matplotlib inline\n",
    "\n",
    "import datetime as dt\n",
    "\n",
    "import sklearn\n",
    "from sklearn.preprocessing import StandardScaler\n",
    "from sklearn.cluster import KMeans\n",
    "from sklearn.metrics import silhouette_score\n",
    "\n",
    "from scipy.cluster.hierarchy import linkage\n",
    "from scipy.cluster.hierarchy import dendrogram\n",
    "from scipy.cluster.hierarchy import cut_tree\n",
    "\n",
    "pd.set_option('display.max_rows', 50)\n",
    "pd.set_option('display.max_columns', 50)"
   ]
  },
  {
   "cell_type": "code",
   "execution_count": 2,
   "metadata": {},
   "outputs": [
    {
     "data": {
      "text/html": [
       "<div>\n",
       "<style scoped>\n",
       "    .dataframe tbody tr th:only-of-type {\n",
       "        vertical-align: middle;\n",
       "    }\n",
       "\n",
       "    .dataframe tbody tr th {\n",
       "        vertical-align: top;\n",
       "    }\n",
       "\n",
       "    .dataframe thead th {\n",
       "        text-align: right;\n",
       "    }\n",
       "</style>\n",
       "<table border=\"1\" class=\"dataframe\">\n",
       "  <thead>\n",
       "    <tr style=\"text-align: right;\">\n",
       "      <th></th>\n",
       "      <th>country</th>\n",
       "      <th>child_mort</th>\n",
       "      <th>exports</th>\n",
       "      <th>health</th>\n",
       "      <th>imports</th>\n",
       "      <th>income</th>\n",
       "      <th>inflation</th>\n",
       "      <th>life_expec</th>\n",
       "      <th>total_fer</th>\n",
       "      <th>gdpp</th>\n",
       "    </tr>\n",
       "  </thead>\n",
       "  <tbody>\n",
       "    <tr>\n",
       "      <th>0</th>\n",
       "      <td>Afghanistan</td>\n",
       "      <td>90.2</td>\n",
       "      <td>10.0</td>\n",
       "      <td>7.58</td>\n",
       "      <td>44.9</td>\n",
       "      <td>1610</td>\n",
       "      <td>9.44</td>\n",
       "      <td>56.2</td>\n",
       "      <td>5.82</td>\n",
       "      <td>553</td>\n",
       "    </tr>\n",
       "    <tr>\n",
       "      <th>1</th>\n",
       "      <td>Albania</td>\n",
       "      <td>16.6</td>\n",
       "      <td>28.0</td>\n",
       "      <td>6.55</td>\n",
       "      <td>48.6</td>\n",
       "      <td>9930</td>\n",
       "      <td>4.49</td>\n",
       "      <td>76.3</td>\n",
       "      <td>1.65</td>\n",
       "      <td>4090</td>\n",
       "    </tr>\n",
       "    <tr>\n",
       "      <th>2</th>\n",
       "      <td>Algeria</td>\n",
       "      <td>27.3</td>\n",
       "      <td>38.4</td>\n",
       "      <td>4.17</td>\n",
       "      <td>31.4</td>\n",
       "      <td>12900</td>\n",
       "      <td>16.10</td>\n",
       "      <td>76.5</td>\n",
       "      <td>2.89</td>\n",
       "      <td>4460</td>\n",
       "    </tr>\n",
       "    <tr>\n",
       "      <th>3</th>\n",
       "      <td>Angola</td>\n",
       "      <td>119.0</td>\n",
       "      <td>62.3</td>\n",
       "      <td>2.85</td>\n",
       "      <td>42.9</td>\n",
       "      <td>5900</td>\n",
       "      <td>22.40</td>\n",
       "      <td>60.1</td>\n",
       "      <td>6.16</td>\n",
       "      <td>3530</td>\n",
       "    </tr>\n",
       "    <tr>\n",
       "      <th>4</th>\n",
       "      <td>Antigua and Barbuda</td>\n",
       "      <td>10.3</td>\n",
       "      <td>45.5</td>\n",
       "      <td>6.03</td>\n",
       "      <td>58.9</td>\n",
       "      <td>19100</td>\n",
       "      <td>1.44</td>\n",
       "      <td>76.8</td>\n",
       "      <td>2.13</td>\n",
       "      <td>12200</td>\n",
       "    </tr>\n",
       "  </tbody>\n",
       "</table>\n",
       "</div>"
      ],
      "text/plain": [
       "               country  child_mort  exports  health  imports  income  \\\n",
       "0          Afghanistan        90.2     10.0    7.58     44.9    1610   \n",
       "1              Albania        16.6     28.0    6.55     48.6    9930   \n",
       "2              Algeria        27.3     38.4    4.17     31.4   12900   \n",
       "3               Angola       119.0     62.3    2.85     42.9    5900   \n",
       "4  Antigua and Barbuda        10.3     45.5    6.03     58.9   19100   \n",
       "\n",
       "   inflation  life_expec  total_fer   gdpp  \n",
       "0       9.44        56.2       5.82    553  \n",
       "1       4.49        76.3       1.65   4090  \n",
       "2      16.10        76.5       2.89   4460  \n",
       "3      22.40        60.1       6.16   3530  \n",
       "4       1.44        76.8       2.13  12200  "
      ]
     },
     "execution_count": 2,
     "metadata": {},
     "output_type": "execute_result"
    }
   ],
   "source": [
    "country = pd.read_csv(\"Country-data.csv\", sep=\",\", encoding=\"ISO-8859-1\", header=0)\n",
    "country.head()"
   ]
  },
  {
   "cell_type": "code",
   "execution_count": 3,
   "metadata": {},
   "outputs": [
    {
     "data": {
      "text/plain": [
       "(167, 10)"
      ]
     },
     "execution_count": 3,
     "metadata": {},
     "output_type": "execute_result"
    }
   ],
   "source": [
    "country.shape"
   ]
  },
  {
   "cell_type": "code",
   "execution_count": 4,
   "metadata": {},
   "outputs": [
    {
     "data": {
      "text/html": [
       "<div>\n",
       "<style scoped>\n",
       "    .dataframe tbody tr th:only-of-type {\n",
       "        vertical-align: middle;\n",
       "    }\n",
       "\n",
       "    .dataframe tbody tr th {\n",
       "        vertical-align: top;\n",
       "    }\n",
       "\n",
       "    .dataframe thead th {\n",
       "        text-align: right;\n",
       "    }\n",
       "</style>\n",
       "<table border=\"1\" class=\"dataframe\">\n",
       "  <thead>\n",
       "    <tr style=\"text-align: right;\">\n",
       "      <th></th>\n",
       "      <th>child_mort</th>\n",
       "      <th>exports</th>\n",
       "      <th>health</th>\n",
       "      <th>imports</th>\n",
       "      <th>income</th>\n",
       "      <th>inflation</th>\n",
       "      <th>life_expec</th>\n",
       "      <th>total_fer</th>\n",
       "      <th>gdpp</th>\n",
       "    </tr>\n",
       "  </thead>\n",
       "  <tbody>\n",
       "    <tr>\n",
       "      <th>count</th>\n",
       "      <td>167.000000</td>\n",
       "      <td>167.000000</td>\n",
       "      <td>167.000000</td>\n",
       "      <td>167.000000</td>\n",
       "      <td>167.000000</td>\n",
       "      <td>167.000000</td>\n",
       "      <td>167.000000</td>\n",
       "      <td>167.000000</td>\n",
       "      <td>167.000000</td>\n",
       "    </tr>\n",
       "    <tr>\n",
       "      <th>mean</th>\n",
       "      <td>38.270060</td>\n",
       "      <td>41.108976</td>\n",
       "      <td>6.815689</td>\n",
       "      <td>46.890215</td>\n",
       "      <td>17144.688623</td>\n",
       "      <td>7.781832</td>\n",
       "      <td>70.555689</td>\n",
       "      <td>2.947964</td>\n",
       "      <td>12964.155689</td>\n",
       "    </tr>\n",
       "    <tr>\n",
       "      <th>std</th>\n",
       "      <td>40.328931</td>\n",
       "      <td>27.412010</td>\n",
       "      <td>2.746837</td>\n",
       "      <td>24.209589</td>\n",
       "      <td>19278.067698</td>\n",
       "      <td>10.570704</td>\n",
       "      <td>8.893172</td>\n",
       "      <td>1.513848</td>\n",
       "      <td>18328.704809</td>\n",
       "    </tr>\n",
       "    <tr>\n",
       "      <th>min</th>\n",
       "      <td>2.600000</td>\n",
       "      <td>0.109000</td>\n",
       "      <td>1.810000</td>\n",
       "      <td>0.065900</td>\n",
       "      <td>609.000000</td>\n",
       "      <td>-4.210000</td>\n",
       "      <td>32.100000</td>\n",
       "      <td>1.150000</td>\n",
       "      <td>231.000000</td>\n",
       "    </tr>\n",
       "    <tr>\n",
       "      <th>25%</th>\n",
       "      <td>8.250000</td>\n",
       "      <td>23.800000</td>\n",
       "      <td>4.920000</td>\n",
       "      <td>30.200000</td>\n",
       "      <td>3355.000000</td>\n",
       "      <td>1.810000</td>\n",
       "      <td>65.300000</td>\n",
       "      <td>1.795000</td>\n",
       "      <td>1330.000000</td>\n",
       "    </tr>\n",
       "    <tr>\n",
       "      <th>50%</th>\n",
       "      <td>19.300000</td>\n",
       "      <td>35.000000</td>\n",
       "      <td>6.320000</td>\n",
       "      <td>43.300000</td>\n",
       "      <td>9960.000000</td>\n",
       "      <td>5.390000</td>\n",
       "      <td>73.100000</td>\n",
       "      <td>2.410000</td>\n",
       "      <td>4660.000000</td>\n",
       "    </tr>\n",
       "    <tr>\n",
       "      <th>75%</th>\n",
       "      <td>62.100000</td>\n",
       "      <td>51.350000</td>\n",
       "      <td>8.600000</td>\n",
       "      <td>58.750000</td>\n",
       "      <td>22800.000000</td>\n",
       "      <td>10.750000</td>\n",
       "      <td>76.800000</td>\n",
       "      <td>3.880000</td>\n",
       "      <td>14050.000000</td>\n",
       "    </tr>\n",
       "    <tr>\n",
       "      <th>max</th>\n",
       "      <td>208.000000</td>\n",
       "      <td>200.000000</td>\n",
       "      <td>17.900000</td>\n",
       "      <td>174.000000</td>\n",
       "      <td>125000.000000</td>\n",
       "      <td>104.000000</td>\n",
       "      <td>82.800000</td>\n",
       "      <td>7.490000</td>\n",
       "      <td>105000.000000</td>\n",
       "    </tr>\n",
       "  </tbody>\n",
       "</table>\n",
       "</div>"
      ],
      "text/plain": [
       "       child_mort     exports      health     imports         income  \\\n",
       "count  167.000000  167.000000  167.000000  167.000000     167.000000   \n",
       "mean    38.270060   41.108976    6.815689   46.890215   17144.688623   \n",
       "std     40.328931   27.412010    2.746837   24.209589   19278.067698   \n",
       "min      2.600000    0.109000    1.810000    0.065900     609.000000   \n",
       "25%      8.250000   23.800000    4.920000   30.200000    3355.000000   \n",
       "50%     19.300000   35.000000    6.320000   43.300000    9960.000000   \n",
       "75%     62.100000   51.350000    8.600000   58.750000   22800.000000   \n",
       "max    208.000000  200.000000   17.900000  174.000000  125000.000000   \n",
       "\n",
       "        inflation  life_expec   total_fer           gdpp  \n",
       "count  167.000000  167.000000  167.000000     167.000000  \n",
       "mean     7.781832   70.555689    2.947964   12964.155689  \n",
       "std     10.570704    8.893172    1.513848   18328.704809  \n",
       "min     -4.210000   32.100000    1.150000     231.000000  \n",
       "25%      1.810000   65.300000    1.795000    1330.000000  \n",
       "50%      5.390000   73.100000    2.410000    4660.000000  \n",
       "75%     10.750000   76.800000    3.880000   14050.000000  \n",
       "max    104.000000   82.800000    7.490000  105000.000000  "
      ]
     },
     "execution_count": 4,
     "metadata": {},
     "output_type": "execute_result"
    }
   ],
   "source": [
    "country.describe()"
   ]
  },
  {
   "cell_type": "markdown",
   "metadata": {},
   "source": [
    "### Data cleaning"
   ]
  },
  {
   "cell_type": "markdown",
   "metadata": {},
   "source": [
    "#### (A) Check for Duplicate values in a dataset"
   ]
  },
  {
   "cell_type": "code",
   "execution_count": 5,
   "metadata": {},
   "outputs": [
    {
     "data": {
      "text/plain": [
       "True"
      ]
     },
     "execution_count": 5,
     "metadata": {},
     "output_type": "execute_result"
    }
   ],
   "source": [
    "sum(country.duplicated(subset = 'country')) == 0"
   ]
  },
  {
   "cell_type": "markdown",
   "metadata": {},
   "source": [
    "#### (B) CHECK for NULL and NAN values in dataset"
   ]
  },
  {
   "cell_type": "code",
   "execution_count": 6,
   "metadata": {},
   "outputs": [
    {
     "data": {
      "text/plain": [
       "country       0\n",
       "child_mort    0\n",
       "exports       0\n",
       "health        0\n",
       "imports       0\n",
       "income        0\n",
       "inflation     0\n",
       "life_expec    0\n",
       "total_fer     0\n",
       "gdpp          0\n",
       "dtype: int64"
      ]
     },
     "execution_count": 6,
     "metadata": {},
     "output_type": "execute_result"
    }
   ],
   "source": [
    "country.isnull().sum()"
   ]
  },
  {
   "cell_type": "code",
   "execution_count": 7,
   "metadata": {},
   "outputs": [
    {
     "name": "stdout",
     "output_type": "stream",
     "text": [
      "<class 'pandas.core.frame.DataFrame'>\n",
      "RangeIndex: 167 entries, 0 to 166\n",
      "Data columns (total 10 columns):\n",
      "country       167 non-null object\n",
      "child_mort    167 non-null float64\n",
      "exports       167 non-null float64\n",
      "health        167 non-null float64\n",
      "imports       167 non-null float64\n",
      "income        167 non-null int64\n",
      "inflation     167 non-null float64\n",
      "life_expec    167 non-null float64\n",
      "total_fer     167 non-null float64\n",
      "gdpp          167 non-null int64\n",
      "dtypes: float64(7), int64(2), object(1)\n",
      "memory usage: 13.1+ KB\n"
     ]
    }
   ],
   "source": [
    "country.info()"
   ]
  },
  {
   "cell_type": "markdown",
   "metadata": {},
   "source": [
    "### Exploratory Data Analysis"
   ]
  },
  {
   "cell_type": "code",
   "execution_count": 8,
   "metadata": {},
   "outputs": [
    {
     "data": {
      "image/png": "[encoded data removed]",
      "text/plain": [
       "<Figure size 1800x720 with 9 Axes>"
      ]
     },
     "metadata": {
      "needs_background": "light"
     },
     "output_type": "display_data"
    }
   ],
   "source": [
    "plt.figure(figsize=(25,10))\n",
    "plt.subplot(2,5,1)\n",
    "sns.boxplot(y =country.child_mort,color = 'Red')\n",
    "plt.title('Child_mortality')\n",
    "\n",
    "plt.subplot(2,5,2)\n",
    "sns.boxplot(y =country.exports,color = 'Orange')\n",
    "plt.title('Exports')\n",
    "\n",
    "plt.subplot(2,5,3)\n",
    "sns.boxplot(y =country.health,color = 'Blue')\n",
    "plt.title('Health spending')\n",
    "\n",
    "plt.subplot(2,5,4)\n",
    "sns.boxplot(y =country.imports,color = 'orange')\n",
    "plt.title('Imports')\n",
    "\n",
    "plt.subplot(2,5,5)\n",
    "sns.boxplot(y =country.income,color = 'magenta')\n",
    "plt.title('Net income')\n",
    "\n",
    "plt.subplot(2,5,6)\n",
    "sns.boxplot(y =country.inflation,color = 'green')\n",
    "plt.title('Inflation')\n",
    "\n",
    "plt.subplot(2,5,7)\n",
    "sns.boxplot(y =country.life_expec,color = 'yellow')\n",
    "plt.title('Life expectancy')\n",
    "\n",
    "plt.subplot(2,5,8)\n",
    "sns.boxplot(y =country.total_fer,color = 'magenta')\n",
    "plt.title('Total fertility')\n",
    "\n",
    "plt.subplot(2,5,9)\n",
    "sns.boxplot(y =country.gdpp,color = 'Cyan')\n",
    "plt.title('GDP per person')\n",
    "\n",
    "plt.savefig('eda')"
   ]
  },
  {
   "cell_type": "markdown",
   "metadata": {},
   "source": [
    "##### As visible from above plots there are lot of outliers in the variables, so we need to remove those from our dataset"
   ]
  },
  {
   "cell_type": "code",
   "execution_count": 9,
   "metadata": {},
   "outputs": [],
   "source": [
    "Q1 = country.child_mort.quantile(0.05)\n",
    "Q3 = country.child_mort.quantile(0.95)\n",
    "IQR = Q3 - Q1\n",
    "country = country[(country.child_mort >= Q1 - 1.5*IQR) & (country.child_mort <= Q3 + 1.5*IQR)]\n",
    "\n",
    "Q1 = country.exports.quantile(0.05)\n",
    "Q3 = country.exports.quantile(0.95)\n",
    "IQR = Q3 - Q1\n",
    "country = country[(country.exports >= Q1 - 1.5*IQR) & (country.exports <= Q3 + 1.5*IQR)]\n",
    "\n",
    "Q1 = country.health.quantile(0.05)\n",
    "Q3 = country.health.quantile(0.95)\n",
    "IQR = Q3 - Q1\n",
    "country = country[(country.health >= Q1 - 1.5*IQR) & (country.health <= Q3 + 1.5*IQR)]\n",
    "\n",
    "Q1 = country.imports.quantile(0.05)\n",
    "Q3 = country.imports.quantile(0.95)\n",
    "IQR = Q3 - Q1\n",
    "country = country[(country.imports >= Q1 - 1.5*IQR) & (country.imports <= Q3 + 1.5*IQR)]\n",
    "\n",
    "Q1 = country.income.quantile(0.05)\n",
    "Q3 = country.income.quantile(0.95)\n",
    "IQR = Q3 - Q1\n",
    "country = country[(country.income >= Q1 - 1.5*IQR) & (country.income <= Q3 + 1.5*IQR)]\n",
    "\n",
    "Q1 = country.inflation.quantile(0.05)\n",
    "Q3 = country.inflation.quantile(0.95)\n",
    "IQR = Q3 - Q1\n",
    "country = country[(country.inflation >= Q1 - 1.5*IQR) & (country.inflation <= Q3 + 1.5*IQR)]\n",
    "\n",
    "Q1 = country.life_expec.quantile(0.05)\n",
    "Q3 = country.life_expec.quantile(0.95)\n",
    "IQR = Q3 - Q1\n",
    "country = country[(country.life_expec >= Q1 - 1.5*IQR) & (country.life_expec <= Q3 + 1.5*IQR)]\n",
    "\n",
    "Q1 = country.total_fer.quantile(0.05)\n",
    "Q3 = country.total_fer.quantile(0.95)\n",
    "IQR = Q3 - Q1\n",
    "country = country[(country.total_fer >= Q1 - 1.5*IQR) & (country.total_fer <= Q3 + 1.5*IQR)]\n",
    "\n",
    "Q1 = country.gdpp.quantile(0.05)\n",
    "Q3 = country.gdpp.quantile(0.95)\n",
    "IQR = Q3 - Q1\n",
    "country = country[(country.gdpp >= Q1 - 1.5*IQR) & (country.gdpp <= Q3 + 1.5*IQR)]"
   ]
  },
  {
   "cell_type": "code",
   "execution_count": 10,
   "metadata": {},
   "outputs": [
    {
     "data": {
      "text/html": [
       "<div>\n",
       "<style scoped>\n",
       "    .dataframe tbody tr th:only-of-type {\n",
       "        vertical-align: middle;\n",
       "    }\n",
       "\n",
       "    .dataframe tbody tr th {\n",
       "        vertical-align: top;\n",
       "    }\n",
       "\n",
       "    .dataframe thead th {\n",
       "        text-align: right;\n",
       "    }\n",
       "</style>\n",
       "<table border=\"1\" class=\"dataframe\">\n",
       "  <thead>\n",
       "    <tr style=\"text-align: right;\">\n",
       "      <th></th>\n",
       "      <th>child_mort</th>\n",
       "      <th>exports</th>\n",
       "      <th>health</th>\n",
       "      <th>imports</th>\n",
       "      <th>income</th>\n",
       "      <th>inflation</th>\n",
       "      <th>life_expec</th>\n",
       "      <th>total_fer</th>\n",
       "      <th>gdpp</th>\n",
       "    </tr>\n",
       "  </thead>\n",
       "  <tbody>\n",
       "    <tr>\n",
       "      <th>count</th>\n",
       "      <td>164.000000</td>\n",
       "      <td>164.000000</td>\n",
       "      <td>164.000000</td>\n",
       "      <td>164.000000</td>\n",
       "      <td>164.000000</td>\n",
       "      <td>164.000000</td>\n",
       "      <td>164.000000</td>\n",
       "      <td>164.000000</td>\n",
       "      <td>164.000000</td>\n",
       "    </tr>\n",
       "    <tr>\n",
       "      <th>mean</th>\n",
       "      <td>38.105488</td>\n",
       "      <td>40.107311</td>\n",
       "      <td>6.874268</td>\n",
       "      <td>46.435768</td>\n",
       "      <td>16225.079268</td>\n",
       "      <td>7.247756</td>\n",
       "      <td>70.488415</td>\n",
       "      <td>2.946646</td>\n",
       "      <td>12474.292683</td>\n",
       "    </tr>\n",
       "    <tr>\n",
       "      <th>std</th>\n",
       "      <td>39.896529</td>\n",
       "      <td>24.598063</td>\n",
       "      <td>2.730949</td>\n",
       "      <td>22.112332</td>\n",
       "      <td>16936.812864</td>\n",
       "      <td>7.505487</td>\n",
       "      <td>8.861355</td>\n",
       "      <td>1.502677</td>\n",
       "      <td>17722.307006</td>\n",
       "    </tr>\n",
       "    <tr>\n",
       "      <th>min</th>\n",
       "      <td>2.600000</td>\n",
       "      <td>0.109000</td>\n",
       "      <td>1.970000</td>\n",
       "      <td>0.065900</td>\n",
       "      <td>609.000000</td>\n",
       "      <td>-4.210000</td>\n",
       "      <td>32.100000</td>\n",
       "      <td>1.230000</td>\n",
       "      <td>231.000000</td>\n",
       "    </tr>\n",
       "    <tr>\n",
       "      <th>25%</th>\n",
       "      <td>8.425000</td>\n",
       "      <td>23.725000</td>\n",
       "      <td>4.960000</td>\n",
       "      <td>30.625000</td>\n",
       "      <td>3335.000000</td>\n",
       "      <td>1.830000</td>\n",
       "      <td>65.300000</td>\n",
       "      <td>1.797500</td>\n",
       "      <td>1310.000000</td>\n",
       "    </tr>\n",
       "    <tr>\n",
       "      <th>50%</th>\n",
       "      <td>19.500000</td>\n",
       "      <td>35.000000</td>\n",
       "      <td>6.400000</td>\n",
       "      <td>43.300000</td>\n",
       "      <td>9950.000000</td>\n",
       "      <td>5.265000</td>\n",
       "      <td>73.100000</td>\n",
       "      <td>2.410000</td>\n",
       "      <td>4635.000000</td>\n",
       "    </tr>\n",
       "    <tr>\n",
       "      <th>75%</th>\n",
       "      <td>62.050000</td>\n",
       "      <td>51.225000</td>\n",
       "      <td>8.670000</td>\n",
       "      <td>58.675000</td>\n",
       "      <td>22400.000000</td>\n",
       "      <td>10.675000</td>\n",
       "      <td>76.725000</td>\n",
       "      <td>3.865000</td>\n",
       "      <td>13500.000000</td>\n",
       "    </tr>\n",
       "    <tr>\n",
       "      <th>max</th>\n",
       "      <td>208.000000</td>\n",
       "      <td>175.000000</td>\n",
       "      <td>17.900000</td>\n",
       "      <td>154.000000</td>\n",
       "      <td>91700.000000</td>\n",
       "      <td>45.900000</td>\n",
       "      <td>82.800000</td>\n",
       "      <td>7.490000</td>\n",
       "      <td>105000.000000</td>\n",
       "    </tr>\n",
       "  </tbody>\n",
       "</table>\n",
       "</div>"
      ],
      "text/plain": [
       "       child_mort     exports      health     imports        income  \\\n",
       "count  164.000000  164.000000  164.000000  164.000000    164.000000   \n",
       "mean    38.105488   40.107311    6.874268   46.435768  16225.079268   \n",
       "std     39.896529   24.598063    2.730949   22.112332  16936.812864   \n",
       "min      2.600000    0.109000    1.970000    0.065900    609.000000   \n",
       "25%      8.425000   23.725000    4.960000   30.625000   3335.000000   \n",
       "50%     19.500000   35.000000    6.400000   43.300000   9950.000000   \n",
       "75%     62.050000   51.225000    8.670000   58.675000  22400.000000   \n",
       "max    208.000000  175.000000   17.900000  154.000000  91700.000000   \n",
       "\n",
       "        inflation  life_expec   total_fer           gdpp  \n",
       "count  164.000000  164.000000  164.000000     164.000000  \n",
       "mean     7.247756   70.488415    2.946646   12474.292683  \n",
       "std      7.505487    8.861355    1.502677   17722.307006  \n",
       "min     -4.210000   32.100000    1.230000     231.000000  \n",
       "25%      1.830000   65.300000    1.797500    1310.000000  \n",
       "50%      5.265000   73.100000    2.410000    4635.000000  \n",
       "75%     10.675000   76.725000    3.865000   13500.000000  \n",
       "max     45.900000   82.800000    7.490000  105000.000000  "
      ]
     },
     "execution_count": 10,
     "metadata": {},
     "output_type": "execute_result"
    }
   ],
   "source": [
    "country.describe()"
   ]
  },
  {
   "cell_type": "markdown",
   "metadata": {},
   "source": [
    "##### Before manipulating data, we will save one copy of original data."
   ]
  },
  {
   "cell_type": "code",
   "execution_count": 11,
   "metadata": {},
   "outputs": [
    {
     "data": {
      "text/html": [
       "<div>\n",
       "<style scoped>\n",
       "    .dataframe tbody tr th:only-of-type {\n",
       "        vertical-align: middle;\n",
       "    }\n",
       "\n",
       "    .dataframe tbody tr th {\n",
       "        vertical-align: top;\n",
       "    }\n",
       "\n",
       "    .dataframe thead th {\n",
       "        text-align: right;\n",
       "    }\n",
       "</style>\n",
       "<table border=\"1\" class=\"dataframe\">\n",
       "  <thead>\n",
       "    <tr style=\"text-align: right;\">\n",
       "      <th></th>\n",
       "      <th>country</th>\n",
       "      <th>child_mort</th>\n",
       "      <th>exports</th>\n",
       "      <th>health</th>\n",
       "      <th>imports</th>\n",
       "      <th>income</th>\n",
       "      <th>inflation</th>\n",
       "      <th>life_expec</th>\n",
       "      <th>total_fer</th>\n",
       "      <th>gdpp</th>\n",
       "    </tr>\n",
       "  </thead>\n",
       "  <tbody>\n",
       "    <tr>\n",
       "      <th>0</th>\n",
       "      <td>Afghanistan</td>\n",
       "      <td>90.2</td>\n",
       "      <td>10.0</td>\n",
       "      <td>7.58</td>\n",
       "      <td>44.9</td>\n",
       "      <td>1610</td>\n",
       "      <td>9.44</td>\n",
       "      <td>56.2</td>\n",
       "      <td>5.82</td>\n",
       "      <td>553</td>\n",
       "    </tr>\n",
       "    <tr>\n",
       "      <th>1</th>\n",
       "      <td>Albania</td>\n",
       "      <td>16.6</td>\n",
       "      <td>28.0</td>\n",
       "      <td>6.55</td>\n",
       "      <td>48.6</td>\n",
       "      <td>9930</td>\n",
       "      <td>4.49</td>\n",
       "      <td>76.3</td>\n",
       "      <td>1.65</td>\n",
       "      <td>4090</td>\n",
       "    </tr>\n",
       "    <tr>\n",
       "      <th>2</th>\n",
       "      <td>Algeria</td>\n",
       "      <td>27.3</td>\n",
       "      <td>38.4</td>\n",
       "      <td>4.17</td>\n",
       "      <td>31.4</td>\n",
       "      <td>12900</td>\n",
       "      <td>16.10</td>\n",
       "      <td>76.5</td>\n",
       "      <td>2.89</td>\n",
       "      <td>4460</td>\n",
       "    </tr>\n",
       "    <tr>\n",
       "      <th>3</th>\n",
       "      <td>Angola</td>\n",
       "      <td>119.0</td>\n",
       "      <td>62.3</td>\n",
       "      <td>2.85</td>\n",
       "      <td>42.9</td>\n",
       "      <td>5900</td>\n",
       "      <td>22.40</td>\n",
       "      <td>60.1</td>\n",
       "      <td>6.16</td>\n",
       "      <td>3530</td>\n",
       "    </tr>\n",
       "    <tr>\n",
       "      <th>4</th>\n",
       "      <td>Antigua and Barbuda</td>\n",
       "      <td>10.3</td>\n",
       "      <td>45.5</td>\n",
       "      <td>6.03</td>\n",
       "      <td>58.9</td>\n",
       "      <td>19100</td>\n",
       "      <td>1.44</td>\n",
       "      <td>76.8</td>\n",
       "      <td>2.13</td>\n",
       "      <td>12200</td>\n",
       "    </tr>\n",
       "  </tbody>\n",
       "</table>\n",
       "</div>"
      ],
      "text/plain": [
       "               country  child_mort  exports  health  imports  income  \\\n",
       "0          Afghanistan        90.2     10.0    7.58     44.9    1610   \n",
       "1              Albania        16.6     28.0    6.55     48.6    9930   \n",
       "2              Algeria        27.3     38.4    4.17     31.4   12900   \n",
       "3               Angola       119.0     62.3    2.85     42.9    5900   \n",
       "4  Antigua and Barbuda        10.3     45.5    6.03     58.9   19100   \n",
       "\n",
       "   inflation  life_expec  total_fer   gdpp  \n",
       "0       9.44        56.2       5.82    553  \n",
       "1       4.49        76.3       1.65   4090  \n",
       "2      16.10        76.5       2.89   4460  \n",
       "3      22.40        60.1       6.16   3530  \n",
       "4       1.44        76.8       2.13  12200  "
      ]
     },
     "execution_count": 11,
     "metadata": {},
     "output_type": "execute_result"
    }
   ],
   "source": [
    "country_df = country.copy()\n",
    "country_df.head()"
   ]
  },
  {
   "cell_type": "code",
   "execution_count": 12,
   "metadata": {},
   "outputs": [],
   "source": [
    "country_df = country_df.drop('country',axis='columns')"
   ]
  },
  {
   "cell_type": "markdown",
   "metadata": {},
   "source": [
    "#### Apply standard scalar on the dataset"
   ]
  },
  {
   "cell_type": "code",
   "execution_count": 13,
   "metadata": {},
   "outputs": [
    {
     "name": "stderr",
     "output_type": "stream",
     "text": [
      "C:\\Users\\Jitmanyu\\Anaconda3\\lib\\site-packages\\sklearn\\preprocessing\\data.py:625: DataConversionWarning: Data with input dtype int64, float64 were all converted to float64 by StandardScaler.\n",
      "  return self.partial_fit(X, y)\n",
      "C:\\Users\\Jitmanyu\\Anaconda3\\lib\\site-packages\\sklearn\\base.py:462: DataConversionWarning: Data with input dtype int64, float64 were all converted to float64 by StandardScaler.\n",
      "  return self.fit(X, **fit_params).transform(X)\n"
     ]
    },
    {
     "data": {
      "text/html": [
       "<div>\n",
       "<style scoped>\n",
       "    .dataframe tbody tr th:only-of-type {\n",
       "        vertical-align: middle;\n",
       "    }\n",
       "\n",
       "    .dataframe tbody tr th {\n",
       "        vertical-align: top;\n",
       "    }\n",
       "\n",
       "    .dataframe thead th {\n",
       "        text-align: right;\n",
       "    }\n",
       "</style>\n",
       "<table border=\"1\" class=\"dataframe\">\n",
       "  <thead>\n",
       "    <tr style=\"text-align: right;\">\n",
       "      <th></th>\n",
       "      <th>child_mort</th>\n",
       "      <th>exports</th>\n",
       "      <th>health</th>\n",
       "      <th>imports</th>\n",
       "      <th>income</th>\n",
       "      <th>inflation</th>\n",
       "      <th>life_expec</th>\n",
       "      <th>total_fer</th>\n",
       "      <th>gdpp</th>\n",
       "    </tr>\n",
       "  </thead>\n",
       "  <tbody>\n",
       "    <tr>\n",
       "      <th>0</th>\n",
       "      <td>1.309740</td>\n",
       "      <td>-1.227720</td>\n",
       "      <td>0.259211</td>\n",
       "      <td>-0.069666</td>\n",
       "      <td>-0.865561</td>\n",
       "      <td>0.292980</td>\n",
       "      <td>-1.617380</td>\n",
       "      <td>1.918013</td>\n",
       "      <td>-0.674732</td>\n",
       "    </tr>\n",
       "    <tr>\n",
       "      <th>1</th>\n",
       "      <td>-0.540682</td>\n",
       "      <td>-0.493713</td>\n",
       "      <td>-0.119102</td>\n",
       "      <td>0.098174</td>\n",
       "      <td>-0.372819</td>\n",
       "      <td>-0.368557</td>\n",
       "      <td>0.657844</td>\n",
       "      <td>-0.865534</td>\n",
       "      <td>-0.474542</td>\n",
       "    </tr>\n",
       "    <tr>\n",
       "      <th>2</th>\n",
       "      <td>-0.271667</td>\n",
       "      <td>-0.069621</td>\n",
       "      <td>-0.993263</td>\n",
       "      <td>-0.682055</td>\n",
       "      <td>-0.196924</td>\n",
       "      <td>1.183049</td>\n",
       "      <td>0.680483</td>\n",
       "      <td>-0.037812</td>\n",
       "      <td>-0.453600</td>\n",
       "    </tr>\n",
       "    <tr>\n",
       "      <th>3</th>\n",
       "      <td>2.033818</td>\n",
       "      <td>0.904976</td>\n",
       "      <td>-1.478092</td>\n",
       "      <td>-0.160390</td>\n",
       "      <td>-0.611491</td>\n",
       "      <td>2.025005</td>\n",
       "      <td>-1.175919</td>\n",
       "      <td>2.144969</td>\n",
       "      <td>-0.506237</td>\n",
       "    </tr>\n",
       "    <tr>\n",
       "      <th>4</th>\n",
       "      <td>-0.699075</td>\n",
       "      <td>0.219904</td>\n",
       "      <td>-0.310095</td>\n",
       "      <td>0.565404</td>\n",
       "      <td>0.170264</td>\n",
       "      <td>-0.776171</td>\n",
       "      <td>0.714441</td>\n",
       "      <td>-0.545125</td>\n",
       "      <td>-0.015525</td>\n",
       "    </tr>\n",
       "  </tbody>\n",
       "</table>\n",
       "</div>"
      ],
      "text/plain": [
       "   child_mort   exports    health   imports    income  inflation  life_expec  \\\n",
       "0    1.309740 -1.227720  0.259211 -0.069666 -0.865561   0.292980   -1.617380   \n",
       "1   -0.540682 -0.493713 -0.119102  0.098174 -0.372819  -0.368557    0.657844   \n",
       "2   -0.271667 -0.069621 -0.993263 -0.682055 -0.196924   1.183049    0.680483   \n",
       "3    2.033818  0.904976 -1.478092 -0.160390 -0.611491   2.025005   -1.175919   \n",
       "4   -0.699075  0.219904 -0.310095  0.565404  0.170264  -0.776171    0.714441   \n",
       "\n",
       "   total_fer      gdpp  \n",
       "0   1.918013 -0.674732  \n",
       "1  -0.865534 -0.474542  \n",
       "2  -0.037812 -0.453600  \n",
       "3   2.144969 -0.506237  \n",
       "4  -0.545125 -0.015525  "
      ]
     },
     "execution_count": 13,
     "metadata": {},
     "output_type": "execute_result"
    }
   ],
   "source": [
    "col = list(country_df.columns)\n",
    "scaler = StandardScaler()\n",
    "\n",
    "country_df = scaler.fit_transform(country_df)\n",
    "country_df = pd.DataFrame(country_df,columns=col)\n",
    "country_df.head()"
   ]
  },
  {
   "cell_type": "markdown",
   "metadata": {},
   "source": [
    "## Data Modeling"
   ]
  },
  {
   "cell_type": "markdown",
   "metadata": {},
   "source": [
    "#### Applying PCA on the dataset"
   ]
  },
  {
   "cell_type": "code",
   "execution_count": 14,
   "metadata": {},
   "outputs": [
    {
     "data": {
      "text/plain": [
       "PCA(copy=True, iterated_power='auto', n_components=None, random_state=42,\n",
       "  svd_solver='randomized', tol=0.0, whiten=False)"
      ]
     },
     "execution_count": 14,
     "metadata": {},
     "output_type": "execute_result"
    }
   ],
   "source": [
    "from sklearn.decomposition import PCA\n",
    "pca = PCA(svd_solver='randomized', random_state=42)\n",
    "\n",
    "pca.fit(country_df)"
   ]
  },
  {
   "cell_type": "code",
   "execution_count": 15,
   "metadata": {},
   "outputs": [
    {
     "data": {
      "text/plain": [
       "(9, 9)"
      ]
     },
     "execution_count": 15,
     "metadata": {},
     "output_type": "execute_result"
    }
   ],
   "source": [
    "pca.components_.shape"
   ]
  },
  {
   "cell_type": "code",
   "execution_count": 16,
   "metadata": {},
   "outputs": [
    {
     "data": {
      "text/plain": [
       "array([[-0.41707142,  0.26416786,  0.18768908,  0.13037811,  0.41046939,\n",
       "        -0.19325685,  0.42525158, -0.4006349 ,  0.39605627],\n",
       "       [ 0.16626965,  0.60959466, -0.14025508,  0.71387142, -0.01780182,\n",
       "        -0.06583848, -0.2178763 ,  0.13068815, -0.04757916],\n",
       "       [-0.17969762,  0.23818157, -0.67428713, -0.17159462,  0.1205389 ,\n",
       "         0.60477777,  0.15830297, -0.11626924, -0.08947802],\n",
       "       [ 0.34764414,  0.09856524,  0.19229972, -0.17589757,  0.47140389,\n",
       "         0.33594745, -0.18172433,  0.38900432,  0.531111  ],\n",
       "       [-0.18183315, -0.01302907,  0.60352928,  0.2518542 , -0.19656821,\n",
       "         0.67595776,  0.05069234, -0.10140126, -0.17515404],\n",
       "       [ 0.21153109, -0.04075914,  0.00361447, -0.05029309,  0.15419872,\n",
       "         0.05496542, -0.60272783, -0.74866795,  0.02162972],\n",
       "       [-0.06947963, -0.68136406, -0.28952827,  0.57355282,  0.08180463,\n",
       "         0.11899188,  0.00187661,  0.01061626,  0.31170314],\n",
       "       [ 0.72455736,  0.01039262, -0.0157946 ,  0.05284916, -0.22675875,\n",
       "         0.06673753,  0.5639029 , -0.29199597,  0.11289181],\n",
       "       [ 0.19400685, -0.16114614,  0.07157004,  0.12364732,  0.68841767,\n",
       "        -0.03387008,  0.17253087,  0.03753818, -0.64010956]])"
      ]
     },
     "execution_count": 16,
     "metadata": {},
     "output_type": "execute_result"
    }
   ],
   "source": [
    "pca.components_"
   ]
  },
  {
   "cell_type": "code",
   "execution_count": 17,
   "metadata": {},
   "outputs": [
    {
     "data": {
      "text/html": [
       "<div>\n",
       "<style scoped>\n",
       "    .dataframe tbody tr th:only-of-type {\n",
       "        vertical-align: middle;\n",
       "    }\n",
       "\n",
       "    .dataframe tbody tr th {\n",
       "        vertical-align: top;\n",
       "    }\n",
       "\n",
       "    .dataframe thead th {\n",
       "        text-align: right;\n",
       "    }\n",
       "</style>\n",
       "<table border=\"1\" class=\"dataframe\">\n",
       "  <thead>\n",
       "    <tr style=\"text-align: right;\">\n",
       "      <th></th>\n",
       "      <th>PC1</th>\n",
       "      <th>PC2</th>\n",
       "      <th>Feature</th>\n",
       "    </tr>\n",
       "  </thead>\n",
       "  <tbody>\n",
       "    <tr>\n",
       "      <th>0</th>\n",
       "      <td>-0.0</td>\n",
       "      <td>0.0</td>\n",
       "      <td>child_mort</td>\n",
       "    </tr>\n",
       "    <tr>\n",
       "      <th>1</th>\n",
       "      <td>0.0</td>\n",
       "      <td>1.0</td>\n",
       "      <td>exports</td>\n",
       "    </tr>\n",
       "    <tr>\n",
       "      <th>2</th>\n",
       "      <td>0.0</td>\n",
       "      <td>-0.0</td>\n",
       "      <td>health</td>\n",
       "    </tr>\n",
       "    <tr>\n",
       "      <th>3</th>\n",
       "      <td>0.0</td>\n",
       "      <td>1.0</td>\n",
       "      <td>imports</td>\n",
       "    </tr>\n",
       "    <tr>\n",
       "      <th>4</th>\n",
       "      <td>0.0</td>\n",
       "      <td>-0.0</td>\n",
       "      <td>income</td>\n",
       "    </tr>\n",
       "    <tr>\n",
       "      <th>5</th>\n",
       "      <td>-0.0</td>\n",
       "      <td>-0.0</td>\n",
       "      <td>inflation</td>\n",
       "    </tr>\n",
       "    <tr>\n",
       "      <th>6</th>\n",
       "      <td>0.0</td>\n",
       "      <td>-0.0</td>\n",
       "      <td>life_expec</td>\n",
       "    </tr>\n",
       "    <tr>\n",
       "      <th>7</th>\n",
       "      <td>-0.0</td>\n",
       "      <td>0.0</td>\n",
       "      <td>total_fer</td>\n",
       "    </tr>\n",
       "    <tr>\n",
       "      <th>8</th>\n",
       "      <td>0.0</td>\n",
       "      <td>-0.0</td>\n",
       "      <td>gdpp</td>\n",
       "    </tr>\n",
       "  </tbody>\n",
       "</table>\n",
       "</div>"
      ],
      "text/plain": [
       "   PC1  PC2     Feature\n",
       "0 -0.0  0.0  child_mort\n",
       "1  0.0  1.0     exports\n",
       "2  0.0 -0.0      health\n",
       "3  0.0  1.0     imports\n",
       "4  0.0 -0.0      income\n",
       "5 -0.0 -0.0   inflation\n",
       "6  0.0 -0.0  life_expec\n",
       "7 -0.0  0.0   total_fer\n",
       "8  0.0 -0.0        gdpp"
      ]
     },
     "execution_count": 17,
     "metadata": {},
     "output_type": "execute_result"
    }
   ],
   "source": [
    "columns = list(country_df.columns)\n",
    "pcs_df = pd.DataFrame({'PC1':pca.components_[0],'PC2':pca.components_[1],'Feature':columns})\n",
    "round(pcs_df)"
   ]
  },
  {
   "cell_type": "code",
   "execution_count": 39,
   "metadata": {},
   "outputs": [
    {
     "data": {
      "image/png": "[encoded data removed]",
      "text/plain": [
       "<Figure size 576x576 with 1 Axes>"
      ]
     },
     "metadata": {
      "needs_background": "light"
     },
     "output_type": "display_data"
    },
    {
     "data": {
      "text/plain": [
       "<Figure size 432x288 with 0 Axes>"
      ]
     },
     "metadata": {},
     "output_type": "display_data"
    }
   ],
   "source": [
    "plt.figure(figsize = (8,8))\n",
    "plt.scatter(pcs_df.PC1,pcs_df.PC2)\n",
    "plt.xlabel('Principal Component 1')\n",
    "plt.ylabel('Principal Component 2')\n",
    "plt.title('PC Plot')\n",
    "plt.grid()\n",
    "for i,txt in enumerate(pcs_df.Feature):\n",
    "    plt.annotate(txt,(pcs_df.PC1[i],pcs_df.PC2[i]))\n",
    "plt.show()\n",
    "plt.savefig('pca')"
   ]
  },
  {
   "cell_type": "code",
   "execution_count": 19,
   "metadata": {},
   "outputs": [
    {
     "data": {
      "text/plain": [
       "array([0.46176255, 0.1699294 , 0.13516563, 0.10906535, 0.06795329,\n",
       "       0.0254524 , 0.01460331, 0.00919995, 0.00686812])"
      ]
     },
     "execution_count": 19,
     "metadata": {},
     "output_type": "execute_result"
    }
   ],
   "source": [
    "pca.explained_variance_ratio_"
   ]
  },
  {
   "cell_type": "markdown",
   "metadata": {},
   "source": [
    "#### Making the screeplot that is plotting the cumulative variance against the number of components"
   ]
  },
  {
   "cell_type": "code",
   "execution_count": 20,
   "metadata": {},
   "outputs": [
    {
     "data": {
      "image/png": "[encoded data removed]",
      "text/plain": [
       "<Figure size 576x576 with 1 Axes>"
      ]
     },
     "metadata": {
      "needs_background": "light"
     },
     "output_type": "display_data"
    },
    {
     "data": {
      "text/plain": [
       "<Figure size 432x288 with 0 Axes>"
      ]
     },
     "metadata": {},
     "output_type": "display_data"
    }
   ],
   "source": [
    "plt.figure(figsize=(8,8))\n",
    "plt.plot(np.cumsum(pca.explained_variance_ratio_),color='red')\n",
    "plt.xlabel('Principal Components')\n",
    "plt.ylabel('Cumulative Variance Ratio')\n",
    "plt.title('Principal Component Vs Variance Ratio')\n",
    "plt.grid()\n",
    "plt.show()\n",
    "plt.savefig('screeplot')"
   ]
  },
  {
   "cell_type": "markdown",
   "metadata": {},
   "source": [
    "#### It looks like 4 Principal Components are enough to explain around 95% of the varience in the dataset"
   ]
  },
  {
   "cell_type": "code",
   "execution_count": 21,
   "metadata": {},
   "outputs": [
    {
     "data": {
      "text/plain": [
       "(164, 4)"
      ]
     },
     "execution_count": 21,
     "metadata": {},
     "output_type": "execute_result"
    }
   ],
   "source": [
    "from sklearn.decomposition import IncrementalPCA\n",
    "pca_new = IncrementalPCA(n_components=4)\n",
    "pca_new_df = pca_new.fit_transform(country_df)\n",
    "pca_new_df.shape"
   ]
  },
  {
   "cell_type": "code",
   "execution_count": 22,
   "metadata": {},
   "outputs": [
    {
     "data": {
      "image/png": "[encoded data removed]",
      "text/plain": [
       "<Figure size 432x288 with 2 Axes>"
      ]
     },
     "metadata": {
      "needs_background": "light"
     },
     "output_type": "display_data"
    }
   ],
   "source": [
    "%matplotlib inline\n",
    "corrmat = np.corrcoef(pca_new_df.T)\n",
    "sns.heatmap(corrmat,annot=True,linewidths=.5,cmap='YlGnBu')\n",
    "plt.savefig('corrmat')"
   ]
  },
  {
   "cell_type": "code",
   "execution_count": 23,
   "metadata": {},
   "outputs": [
    {
     "data": {
      "text/html": [
       "<div>\n",
       "<style scoped>\n",
       "    .dataframe tbody tr th:only-of-type {\n",
       "        vertical-align: middle;\n",
       "    }\n",
       "\n",
       "    .dataframe tbody tr th {\n",
       "        vertical-align: top;\n",
       "    }\n",
       "\n",
       "    .dataframe thead th {\n",
       "        text-align: right;\n",
       "    }\n",
       "</style>\n",
       "<table border=\"1\" class=\"dataframe\">\n",
       "  <thead>\n",
       "    <tr style=\"text-align: right;\">\n",
       "      <th></th>\n",
       "      <th>PC1</th>\n",
       "      <th>PC2</th>\n",
       "      <th>PC3</th>\n",
       "      <th>PC4</th>\n",
       "    </tr>\n",
       "  </thead>\n",
       "  <tbody>\n",
       "    <tr>\n",
       "      <th>0</th>\n",
       "      <td>-2.965683</td>\n",
       "      <td>0.000212</td>\n",
       "      <td>1.047156</td>\n",
       "      <td>0.752562</td>\n",
       "    </tr>\n",
       "    <tr>\n",
       "      <th>1</th>\n",
       "      <td>0.442164</td>\n",
       "      <td>-0.511870</td>\n",
       "      <td>-0.042070</td>\n",
       "      <td>-1.284604</td>\n",
       "    </tr>\n",
       "    <tr>\n",
       "      <th>2</th>\n",
       "      <td>-0.364373</td>\n",
       "      <td>-0.620924</td>\n",
       "      <td>-1.674087</td>\n",
       "      <td>-0.228459</td>\n",
       "    </tr>\n",
       "    <tr>\n",
       "      <th>3</th>\n",
       "      <td>-3.109204</td>\n",
       "      <td>1.450742</td>\n",
       "      <td>-1.595549</td>\n",
       "      <td>1.725622</td>\n",
       "    </tr>\n",
       "    <tr>\n",
       "      <th>4</th>\n",
       "      <td>1.100146</td>\n",
       "      <td>0.286104</td>\n",
       "      <td>-0.032856</td>\n",
       "      <td>-0.903120</td>\n",
       "    </tr>\n",
       "  </tbody>\n",
       "</table>\n",
       "</div>"
      ],
      "text/plain": [
       "        PC1       PC2       PC3       PC4\n",
       "0 -2.965683  0.000212  1.047156  0.752562\n",
       "1  0.442164 -0.511870 -0.042070 -1.284604\n",
       "2 -0.364373 -0.620924 -1.674087 -0.228459\n",
       "3 -3.109204  1.450742 -1.595549  1.725622\n",
       "4  1.100146  0.286104 -0.032856 -0.903120"
      ]
     },
     "execution_count": 23,
     "metadata": {},
     "output_type": "execute_result"
    }
   ],
   "source": [
    "cols = ['PC1','PC2','PC3','PC4']\n",
    "pca_new_df = pd.DataFrame(pca_new_df,columns=cols)\n",
    "pca_new_df.head()"
   ]
  },
  {
   "cell_type": "markdown",
   "metadata": {},
   "source": [
    "### Finding the Optimal Number of Clusters using KMeans\n",
    "\n",
    "#### SSD method"
   ]
  },
  {
   "cell_type": "code",
   "execution_count": 24,
   "metadata": {},
   "outputs": [
    {
     "data": {
      "text/plain": [
       "[<matplotlib.lines.Line2D at 0x1f1abb9d7f0>]"
      ]
     },
     "execution_count": 24,
     "metadata": {},
     "output_type": "execute_result"
    },
    {
     "data": {
      "image/png": "[encoded data removed]",
      "text/plain": [
       "<Figure size 432x288 with 1 Axes>"
      ]
     },
     "metadata": {
      "needs_background": "light"
     },
     "output_type": "display_data"
    }
   ],
   "source": [
    "ssd = []\n",
    "range_n_clusters = [2, 3, 4, 5, 6, 7, 8]\n",
    "for num_clusters in range_n_clusters:\n",
    "    kmeans = KMeans(n_clusters=num_clusters, max_iter=50)\n",
    "    kmeans.fit(pca_new_df)\n",
    "    \n",
    "    ssd.append(kmeans.inertia_)\n",
    "    \n",
    "# plot the SSDs for each n_clusters\n",
    "# ssd\n",
    "plt.plot(ssd)"
   ]
  },
  {
   "cell_type": "markdown",
   "metadata": {},
   "source": [
    "#### Silhouette Analysis method\n",
    "\n",
    "$\\text{silhouette score}=\\frac{p-q}{max(p,q)}$$\n",
    "\n",
    "$p$ is the mean distance to the points in the nearest cluster that the data point is not a part of\n",
    "\n",
    "$q$ is the mean intra-cluster distance to all the points in its own cluster.\n",
    "\n",
    "* The value of the silhouette score range lies between -1 to 1. \n",
    "\n",
    "* A score closer to 1 indicates that the data point is very similar to other data points in the cluster, \n",
    "\n",
    "* A score closer to -1 indicates that the data point is not similar to the data points in its cluster."
   ]
  },
  {
   "cell_type": "code",
   "execution_count": 25,
   "metadata": {},
   "outputs": [
    {
     "name": "stdout",
     "output_type": "stream",
     "text": [
      "For n_clusters=2, the silhouette score is 0.3165129082023137\n",
      "For n_clusters=3, the silhouette score is 0.32454449530566293\n",
      "For n_clusters=4, the silhouette score is 0.28904275064915685\n",
      "For n_clusters=5, the silhouette score is 0.303967452690962\n",
      "For n_clusters=6, the silhouette score is 0.3014810889049319\n",
      "For n_clusters=7, the silhouette score is 0.2759813768045538\n",
      "For n_clusters=8, the silhouette score is 0.29255975976826154\n"
     ]
    }
   ],
   "source": [
    "range_n_clusters = [2, 3, 4, 5, 6, 7, 8]\n",
    "\n",
    "for num_clusters in range_n_clusters:\n",
    "    \n",
    "    # intialise kmeans\n",
    "    kmeans = KMeans(n_clusters=num_clusters, max_iter=50)\n",
    "    kmeans.fit(pca_new_df)\n",
    "    \n",
    "    cluster_labels = kmeans.labels_\n",
    "    \n",
    "    # silhouette score\n",
    "    silhouette_avg = silhouette_score(pca_new_df, cluster_labels)\n",
    "    print(\"For n_clusters={0}, the silhouette score is {1}\".format(num_clusters, silhouette_avg))\n",
    " "
   ]
  },
  {
   "cell_type": "markdown",
   "metadata": {},
   "source": [
    "#### From the above data for KMeans we are going to select K=3"
   ]
  },
  {
   "cell_type": "code",
   "execution_count": 26,
   "metadata": {},
   "outputs": [
    {
     "data": {
      "text/plain": [
       "KMeans(algorithm='auto', copy_x=True, init='k-means++', max_iter=30,\n",
       "    n_clusters=3, n_init=10, n_jobs=None, precompute_distances='auto',\n",
       "    random_state=42, tol=0.0001, verbose=0)"
      ]
     },
     "execution_count": 26,
     "metadata": {},
     "output_type": "execute_result"
    }
   ],
   "source": [
    "pca_new_df_k3 = KMeans(n_clusters=3,max_iter=30,random_state=42)\n",
    "pca_new_df_k3.fit(pca_new_df)"
   ]
  },
  {
   "cell_type": "markdown",
   "metadata": {},
   "source": [
    "#### Appending our cluster_ID with the PC dataset"
   ]
  },
  {
   "cell_type": "code",
   "execution_count": 27,
   "metadata": {},
   "outputs": [
    {
     "data": {
      "text/html": [
       "<div>\n",
       "<style scoped>\n",
       "    .dataframe tbody tr th:only-of-type {\n",
       "        vertical-align: middle;\n",
       "    }\n",
       "\n",
       "    .dataframe tbody tr th {\n",
       "        vertical-align: top;\n",
       "    }\n",
       "\n",
       "    .dataframe thead th {\n",
       "        text-align: right;\n",
       "    }\n",
       "</style>\n",
       "<table border=\"1\" class=\"dataframe\">\n",
       "  <thead>\n",
       "    <tr style=\"text-align: right;\">\n",
       "      <th></th>\n",
       "      <th>PC1</th>\n",
       "      <th>PC2</th>\n",
       "      <th>PC3</th>\n",
       "      <th>PC4</th>\n",
       "      <th>Cluster_ID</th>\n",
       "    </tr>\n",
       "  </thead>\n",
       "  <tbody>\n",
       "    <tr>\n",
       "      <th>0</th>\n",
       "      <td>-2.965683</td>\n",
       "      <td>0.000212</td>\n",
       "      <td>1.047156</td>\n",
       "      <td>0.752562</td>\n",
       "      <td>2</td>\n",
       "    </tr>\n",
       "    <tr>\n",
       "      <th>1</th>\n",
       "      <td>0.442164</td>\n",
       "      <td>-0.511870</td>\n",
       "      <td>-0.042070</td>\n",
       "      <td>-1.284604</td>\n",
       "      <td>1</td>\n",
       "    </tr>\n",
       "    <tr>\n",
       "      <th>2</th>\n",
       "      <td>-0.364373</td>\n",
       "      <td>-0.620924</td>\n",
       "      <td>-1.674087</td>\n",
       "      <td>-0.228459</td>\n",
       "      <td>1</td>\n",
       "    </tr>\n",
       "    <tr>\n",
       "      <th>3</th>\n",
       "      <td>-3.109204</td>\n",
       "      <td>1.450742</td>\n",
       "      <td>-1.595549</td>\n",
       "      <td>1.725622</td>\n",
       "      <td>2</td>\n",
       "    </tr>\n",
       "    <tr>\n",
       "      <th>4</th>\n",
       "      <td>1.100146</td>\n",
       "      <td>0.286104</td>\n",
       "      <td>-0.032856</td>\n",
       "      <td>-0.903120</td>\n",
       "      <td>1</td>\n",
       "    </tr>\n",
       "  </tbody>\n",
       "</table>\n",
       "</div>"
      ],
      "text/plain": [
       "        PC1       PC2       PC3       PC4  Cluster_ID\n",
       "0 -2.965683  0.000212  1.047156  0.752562           2\n",
       "1  0.442164 -0.511870 -0.042070 -1.284604           1\n",
       "2 -0.364373 -0.620924 -1.674087 -0.228459           1\n",
       "3 -3.109204  1.450742 -1.595549  1.725622           2\n",
       "4  1.100146  0.286104 -0.032856 -0.903120           1"
      ]
     },
     "execution_count": 27,
     "metadata": {},
     "output_type": "execute_result"
    }
   ],
   "source": [
    "pca_new_kmean = pd.concat([pca_new_df,pd.Series(pca_new_df_k3.labels_)],axis='columns')\n",
    "pca_new_kmean.columns = ['PC1','PC2','PC3','PC4','Cluster_ID']\n",
    "pca_new_kmean.head()"
   ]
  },
  {
   "cell_type": "code",
   "execution_count": 28,
   "metadata": {},
   "outputs": [
    {
     "data": {
      "image/png": "[encoded data removed]",
      "text/plain": [
       "<Figure size 720x432 with 1 Axes>"
      ]
     },
     "metadata": {
      "needs_background": "light"
     },
     "output_type": "display_data"
    },
    {
     "data": {
      "text/plain": [
       "<Figure size 432x288 with 0 Axes>"
      ]
     },
     "metadata": {},
     "output_type": "display_data"
    }
   ],
   "source": [
    "plt.figure(figsize=(10,6))\n",
    "plt.scatter(np.array(pca_new_kmean.PC1), np.array(pca_new_kmean.PC2),c=pca_new_kmean.Cluster_ID)\n",
    "plt.title('Cluster')\n",
    "plt.show()\n",
    "plt.savefig('Kmeans')"
   ]
  },
  {
   "cell_type": "markdown",
   "metadata": {},
   "source": [
    "### Hierarchical clustering"
   ]
  },
  {
   "cell_type": "markdown",
   "metadata": {},
   "source": [
    "##### In Single Linkage method there is shortest distance between two points in a cluster"
   ]
  },
  {
   "cell_type": "code",
   "execution_count": 29,
   "metadata": {},
   "outputs": [
    {
     "data": {
      "image/png": "[encoded data removed]",
      "text/plain": [
       "<Figure size 936x432 with 1 Axes>"
      ]
     },
     "metadata": {
      "needs_background": "light"
     },
     "output_type": "display_data"
    },
    {
     "data": {
      "text/plain": [
       "<Figure size 432x288 with 0 Axes>"
      ]
     },
     "metadata": {},
     "output_type": "display_data"
    }
   ],
   "source": [
    "plt.figure(figsize=(13,6))\n",
    "pca_new_hc_single = linkage(pca_new_df,method='single',metric='euclidean')\n",
    "dendrogram(pca_new_hc_single)\n",
    "plt.title('Dendrogram with Single linkage')\n",
    "plt.show()\n",
    "plt.savefig('Single linkage')"
   ]
  },
  {
   "cell_type": "markdown",
   "metadata": {},
   "source": [
    "##### In Complete linkage method there is maximum distance between two points in a cluster"
   ]
  },
  {
   "cell_type": "code",
   "execution_count": 30,
   "metadata": {},
   "outputs": [
    {
     "data": {
      "image/png": "[encoded data removed]",
      "text/plain": [
       "<Figure size 936x432 with 1 Axes>"
      ]
     },
     "metadata": {
      "needs_background": "light"
     },
     "output_type": "display_data"
    },
    {
     "data": {
      "text/plain": [
       "<Figure size 432x288 with 0 Axes>"
      ]
     },
     "metadata": {},
     "output_type": "display_data"
    }
   ],
   "source": [
    "plt.figure(figsize=(13,6))\n",
    "pca_new_hc_complete = linkage(pca_new_df,method='complete',metric='euclidean')\n",
    "dendrogram(pca_new_hc_complete)\n",
    "plt.grid(axis='horizontal')\n",
    "plt.title('Dendrogram with Complete linkage')\n",
    "plt.show()\n",
    "plt.savefig('complete linkage')"
   ]
  },
  {
   "cell_type": "code",
   "execution_count": 31,
   "metadata": {},
   "outputs": [
    {
     "data": {
      "text/html": [
       "<div>\n",
       "<style scoped>\n",
       "    .dataframe tbody tr th:only-of-type {\n",
       "        vertical-align: middle;\n",
       "    }\n",
       "\n",
       "    .dataframe tbody tr th {\n",
       "        vertical-align: top;\n",
       "    }\n",
       "\n",
       "    .dataframe thead th {\n",
       "        text-align: right;\n",
       "    }\n",
       "</style>\n",
       "<table border=\"1\" class=\"dataframe\">\n",
       "  <thead>\n",
       "    <tr style=\"text-align: right;\">\n",
       "      <th></th>\n",
       "      <th>PC1</th>\n",
       "      <th>PC2</th>\n",
       "      <th>PC3</th>\n",
       "      <th>PC4</th>\n",
       "      <th>ClusterID</th>\n",
       "    </tr>\n",
       "  </thead>\n",
       "  <tbody>\n",
       "    <tr>\n",
       "      <th>0</th>\n",
       "      <td>-2.965683</td>\n",
       "      <td>0.000212</td>\n",
       "      <td>1.047156</td>\n",
       "      <td>0.752562</td>\n",
       "      <td>0</td>\n",
       "    </tr>\n",
       "    <tr>\n",
       "      <th>1</th>\n",
       "      <td>0.442164</td>\n",
       "      <td>-0.511870</td>\n",
       "      <td>-0.042070</td>\n",
       "      <td>-1.284604</td>\n",
       "      <td>1</td>\n",
       "    </tr>\n",
       "    <tr>\n",
       "      <th>2</th>\n",
       "      <td>-0.364373</td>\n",
       "      <td>-0.620924</td>\n",
       "      <td>-1.674087</td>\n",
       "      <td>-0.228459</td>\n",
       "      <td>0</td>\n",
       "    </tr>\n",
       "    <tr>\n",
       "      <th>3</th>\n",
       "      <td>-3.109204</td>\n",
       "      <td>1.450742</td>\n",
       "      <td>-1.595549</td>\n",
       "      <td>1.725622</td>\n",
       "      <td>0</td>\n",
       "    </tr>\n",
       "    <tr>\n",
       "      <th>4</th>\n",
       "      <td>1.100146</td>\n",
       "      <td>0.286104</td>\n",
       "      <td>-0.032856</td>\n",
       "      <td>-0.903120</td>\n",
       "      <td>1</td>\n",
       "    </tr>\n",
       "  </tbody>\n",
       "</table>\n",
       "</div>"
      ],
      "text/plain": [
       "        PC1       PC2       PC3       PC4  ClusterID\n",
       "0 -2.965683  0.000212  1.047156  0.752562          0\n",
       "1  0.442164 -0.511870 -0.042070 -1.284604          1\n",
       "2 -0.364373 -0.620924 -1.674087 -0.228459          0\n",
       "3 -3.109204  1.450742 -1.595549  1.725622          0\n",
       "4  1.100146  0.286104 -0.032856 -0.903120          1"
      ]
     },
     "execution_count": 31,
     "metadata": {},
     "output_type": "execute_result"
    }
   ],
   "source": [
    "cluster_cut = pd.Series(cut_tree(pca_new_hc_complete,n_clusters=3).reshape(-1))\n",
    "pca_new_hc = pd.concat([pca_new_df,cluster_cut],axis='columns')\n",
    "pca_new_hc.columns = ['PC1','PC2','PC3','PC4','ClusterID']\n",
    "pca_new_hc.head()"
   ]
  },
  {
   "cell_type": "code",
   "execution_count": 32,
   "metadata": {},
   "outputs": [
    {
     "data": {
      "image/png": "[encoded data removed]",
      "text/plain": [
       "<Figure size 720x432 with 1 Axes>"
      ]
     },
     "metadata": {
      "needs_background": "light"
     },
     "output_type": "display_data"
    },
    {
     "data": {
      "text/plain": [
       "<Figure size 432x288 with 0 Axes>"
      ]
     },
     "metadata": {},
     "output_type": "display_data"
    }
   ],
   "source": [
    "plt.figure(figsize=(10,6))\n",
    "plt.scatter(pca_new_hc.PC1,pca_new_hc.PC2,c = pca_new_hc.ClusterID)\n",
    "plt.show()\n",
    "plt.savefig('hierarchical')"
   ]
  },
  {
   "cell_type": "markdown",
   "metadata": {},
   "source": [
    "##### As per scatter plots above by Kmeans and Hierarchical clustering,it is visible that classification by KMeans is better"
   ]
  },
  {
   "cell_type": "code",
   "execution_count": 33,
   "metadata": {},
   "outputs": [
    {
     "data": {
      "text/html": [
       "<div>\n",
       "<style scoped>\n",
       "    .dataframe tbody tr th:only-of-type {\n",
       "        vertical-align: middle;\n",
       "    }\n",
       "\n",
       "    .dataframe tbody tr th {\n",
       "        vertical-align: top;\n",
       "    }\n",
       "\n",
       "    .dataframe thead th {\n",
       "        text-align: right;\n",
       "    }\n",
       "</style>\n",
       "<table border=\"1\" class=\"dataframe\">\n",
       "  <thead>\n",
       "    <tr style=\"text-align: right;\">\n",
       "      <th></th>\n",
       "      <th>country</th>\n",
       "      <th>PC1</th>\n",
       "      <th>PC2</th>\n",
       "      <th>PC3</th>\n",
       "      <th>PC4</th>\n",
       "      <th>Cluster_ID</th>\n",
       "    </tr>\n",
       "  </thead>\n",
       "  <tbody>\n",
       "    <tr>\n",
       "      <th>0</th>\n",
       "      <td>Afghanistan</td>\n",
       "      <td>-2.965683</td>\n",
       "      <td>0.000212</td>\n",
       "      <td>1.047156</td>\n",
       "      <td>0.752562</td>\n",
       "      <td>2.0</td>\n",
       "    </tr>\n",
       "    <tr>\n",
       "      <th>1</th>\n",
       "      <td>Albania</td>\n",
       "      <td>0.442164</td>\n",
       "      <td>-0.511870</td>\n",
       "      <td>-0.042070</td>\n",
       "      <td>-1.284604</td>\n",
       "      <td>1.0</td>\n",
       "    </tr>\n",
       "    <tr>\n",
       "      <th>2</th>\n",
       "      <td>Algeria</td>\n",
       "      <td>-0.364373</td>\n",
       "      <td>-0.620924</td>\n",
       "      <td>-1.674087</td>\n",
       "      <td>-0.228459</td>\n",
       "      <td>1.0</td>\n",
       "    </tr>\n",
       "    <tr>\n",
       "      <th>3</th>\n",
       "      <td>Angola</td>\n",
       "      <td>-3.109204</td>\n",
       "      <td>1.450742</td>\n",
       "      <td>-1.595549</td>\n",
       "      <td>1.725622</td>\n",
       "      <td>2.0</td>\n",
       "    </tr>\n",
       "    <tr>\n",
       "      <th>4</th>\n",
       "      <td>Antigua and Barbuda</td>\n",
       "      <td>1.100146</td>\n",
       "      <td>0.286104</td>\n",
       "      <td>-0.032856</td>\n",
       "      <td>-0.903120</td>\n",
       "      <td>1.0</td>\n",
       "    </tr>\n",
       "  </tbody>\n",
       "</table>\n",
       "</div>"
      ],
      "text/plain": [
       "               country       PC1       PC2       PC3       PC4  Cluster_ID\n",
       "0          Afghanistan -2.965683  0.000212  1.047156  0.752562         2.0\n",
       "1              Albania  0.442164 -0.511870 -0.042070 -1.284604         1.0\n",
       "2              Algeria -0.364373 -0.620924 -1.674087 -0.228459         1.0\n",
       "3               Angola -3.109204  1.450742 -1.595549  1.725622         2.0\n",
       "4  Antigua and Barbuda  1.100146  0.286104 -0.032856 -0.903120         1.0"
      ]
     },
     "execution_count": 33,
     "metadata": {},
     "output_type": "execute_result"
    }
   ],
   "source": [
    "pca_new_k = pd.concat([country['country'],pca_new_kmean], axis= 'columns', join='outer')\n",
    "pca_new_k.head()"
   ]
  },
  {
   "cell_type": "code",
   "execution_count": 34,
   "metadata": {},
   "outputs": [
    {
     "data": {
      "text/html": [
       "<div>\n",
       "<style scoped>\n",
       "    .dataframe tbody tr th:only-of-type {\n",
       "        vertical-align: middle;\n",
       "    }\n",
       "\n",
       "    .dataframe tbody tr th {\n",
       "        vertical-align: top;\n",
       "    }\n",
       "\n",
       "    .dataframe thead th {\n",
       "        text-align: right;\n",
       "    }\n",
       "</style>\n",
       "<table border=\"1\" class=\"dataframe\">\n",
       "  <thead>\n",
       "    <tr style=\"text-align: right;\">\n",
       "      <th></th>\n",
       "      <th>country</th>\n",
       "      <th>Cluster_ID</th>\n",
       "      <th>child_mort</th>\n",
       "      <th>exports</th>\n",
       "      <th>health</th>\n",
       "      <th>imports</th>\n",
       "      <th>income</th>\n",
       "      <th>inflation</th>\n",
       "      <th>life_expec</th>\n",
       "      <th>total_fer</th>\n",
       "      <th>gdpp</th>\n",
       "    </tr>\n",
       "  </thead>\n",
       "  <tbody>\n",
       "    <tr>\n",
       "      <th>0</th>\n",
       "      <td>Afghanistan</td>\n",
       "      <td>2.0</td>\n",
       "      <td>90.2</td>\n",
       "      <td>10.0</td>\n",
       "      <td>7.58</td>\n",
       "      <td>44.9</td>\n",
       "      <td>1610</td>\n",
       "      <td>9.44</td>\n",
       "      <td>56.2</td>\n",
       "      <td>5.82</td>\n",
       "      <td>553</td>\n",
       "    </tr>\n",
       "    <tr>\n",
       "      <th>1</th>\n",
       "      <td>Albania</td>\n",
       "      <td>1.0</td>\n",
       "      <td>16.6</td>\n",
       "      <td>28.0</td>\n",
       "      <td>6.55</td>\n",
       "      <td>48.6</td>\n",
       "      <td>9930</td>\n",
       "      <td>4.49</td>\n",
       "      <td>76.3</td>\n",
       "      <td>1.65</td>\n",
       "      <td>4090</td>\n",
       "    </tr>\n",
       "    <tr>\n",
       "      <th>2</th>\n",
       "      <td>Algeria</td>\n",
       "      <td>1.0</td>\n",
       "      <td>27.3</td>\n",
       "      <td>38.4</td>\n",
       "      <td>4.17</td>\n",
       "      <td>31.4</td>\n",
       "      <td>12900</td>\n",
       "      <td>16.10</td>\n",
       "      <td>76.5</td>\n",
       "      <td>2.89</td>\n",
       "      <td>4460</td>\n",
       "    </tr>\n",
       "    <tr>\n",
       "      <th>3</th>\n",
       "      <td>Angola</td>\n",
       "      <td>2.0</td>\n",
       "      <td>119.0</td>\n",
       "      <td>62.3</td>\n",
       "      <td>2.85</td>\n",
       "      <td>42.9</td>\n",
       "      <td>5900</td>\n",
       "      <td>22.40</td>\n",
       "      <td>60.1</td>\n",
       "      <td>6.16</td>\n",
       "      <td>3530</td>\n",
       "    </tr>\n",
       "    <tr>\n",
       "      <th>4</th>\n",
       "      <td>Antigua and Barbuda</td>\n",
       "      <td>1.0</td>\n",
       "      <td>10.3</td>\n",
       "      <td>45.5</td>\n",
       "      <td>6.03</td>\n",
       "      <td>58.9</td>\n",
       "      <td>19100</td>\n",
       "      <td>1.44</td>\n",
       "      <td>76.8</td>\n",
       "      <td>2.13</td>\n",
       "      <td>12200</td>\n",
       "    </tr>\n",
       "  </tbody>\n",
       "</table>\n",
       "</div>"
      ],
      "text/plain": [
       "               country  Cluster_ID  child_mort  exports  health  imports  \\\n",
       "0          Afghanistan         2.0        90.2     10.0    7.58     44.9   \n",
       "1              Albania         1.0        16.6     28.0    6.55     48.6   \n",
       "2              Algeria         1.0        27.3     38.4    4.17     31.4   \n",
       "3               Angola         2.0       119.0     62.3    2.85     42.9   \n",
       "4  Antigua and Barbuda         1.0        10.3     45.5    6.03     58.9   \n",
       "\n",
       "   income  inflation  life_expec  total_fer   gdpp  \n",
       "0    1610       9.44        56.2       5.82    553  \n",
       "1    9930       4.49        76.3       1.65   4090  \n",
       "2   12900      16.10        76.5       2.89   4460  \n",
       "3    5900      22.40        60.1       6.16   3530  \n",
       "4   19100       1.44        76.8       2.13  12200  "
      ]
     },
     "execution_count": 34,
     "metadata": {},
     "output_type": "execute_result"
    }
   ],
   "source": [
    "pca_new_km = pca_new_k[['country','Cluster_ID']].merge(country, on = 'country')\n",
    "pca_new_km.head()"
   ]
  },
  {
   "cell_type": "code",
   "execution_count": 35,
   "metadata": {},
   "outputs": [],
   "source": [
    "km_clusters_child_mort = pd.DataFrame(pca_new_km.groupby([\"Cluster_ID\"]).child_mort.mean())\n",
    "km_clusters_exports = pd.DataFrame(pca_new_km.groupby([\"Cluster_ID\"]).exports.mean())\n",
    "km_clusters_health = pd.DataFrame(pca_new_km.groupby([\"Cluster_ID\"]).health.mean())\n",
    "km_clusters_imports = pd.DataFrame(pca_new_km.groupby([\"Cluster_ID\"]).imports.mean())\n",
    "km_clusters_income = pd.DataFrame(pca_new_km.groupby([\"Cluster_ID\"]).income.mean())\n",
    "km_clusters_inflation = pd.DataFrame(pca_new_km.groupby([\"Cluster_ID\"]).inflation.mean())\n",
    "km_clusters_life_expec = pd.DataFrame(pca_new_km.groupby([\"Cluster_ID\"]).life_expec.mean())\n",
    "km_clusters_total_fer = pd.DataFrame(pca_new_km.groupby([\"Cluster_ID\"]).total_fer.mean())\n",
    "km_clusters_gdpp = pd.DataFrame(pca_new_km.groupby([\"Cluster_ID\"]).gdpp.mean())"
   ]
  },
  {
   "cell_type": "code",
   "execution_count": 36,
   "metadata": {},
   "outputs": [
    {
     "data": {
      "text/html": [
       "<div>\n",
       "<style scoped>\n",
       "    .dataframe tbody tr th:only-of-type {\n",
       "        vertical-align: middle;\n",
       "    }\n",
       "\n",
       "    .dataframe tbody tr th {\n",
       "        vertical-align: top;\n",
       "    }\n",
       "\n",
       "    .dataframe thead th {\n",
       "        text-align: right;\n",
       "    }\n",
       "</style>\n",
       "<table border=\"1\" class=\"dataframe\">\n",
       "  <thead>\n",
       "    <tr style=\"text-align: right;\">\n",
       "      <th></th>\n",
       "      <th>Cluster_ID</th>\n",
       "      <th>child_mort_mean</th>\n",
       "      <th>exports_mean</th>\n",
       "      <th>health_mean</th>\n",
       "      <th>imports_mean</th>\n",
       "      <th>income_mean</th>\n",
       "      <th>inflation_mean</th>\n",
       "      <th>life_expec_mean</th>\n",
       "      <th>total_fer_mean</th>\n",
       "      <th>gdpp_mean</th>\n",
       "    </tr>\n",
       "  </thead>\n",
       "  <tbody>\n",
       "    <tr>\n",
       "      <th>0</th>\n",
       "      <td>0</td>\n",
       "      <td>17.521212</td>\n",
       "      <td>54.245455</td>\n",
       "      <td>8.356667</td>\n",
       "      <td>51.493939</td>\n",
       "      <td>33505.757576</td>\n",
       "      <td>4.061970</td>\n",
       "      <td>76.493939</td>\n",
       "      <td>2.232727</td>\n",
       "      <td>31060.727273</td>\n",
       "    </tr>\n",
       "    <tr>\n",
       "      <th>1</th>\n",
       "      <td>1</td>\n",
       "      <td>24.095122</td>\n",
       "      <td>37.765720</td>\n",
       "      <td>6.665244</td>\n",
       "      <td>44.343487</td>\n",
       "      <td>14461.341463</td>\n",
       "      <td>7.135927</td>\n",
       "      <td>72.898780</td>\n",
       "      <td>2.375488</td>\n",
       "      <td>9643.353659</td>\n",
       "    </tr>\n",
       "    <tr>\n",
       "      <th>2</th>\n",
       "      <td>2</td>\n",
       "      <td>76.795652</td>\n",
       "      <td>33.732826</td>\n",
       "      <td>6.242391</td>\n",
       "      <td>46.402174</td>\n",
       "      <td>7763.978261</td>\n",
       "      <td>9.124804</td>\n",
       "      <td>62.293478</td>\n",
       "      <td>4.407826</td>\n",
       "      <td>4911.847826</td>\n",
       "    </tr>\n",
       "  </tbody>\n",
       "</table>\n",
       "</div>"
      ],
      "text/plain": [
       "   Cluster_ID  child_mort_mean  exports_mean  health_mean  imports_mean  \\\n",
       "0           0        17.521212     54.245455     8.356667     51.493939   \n",
       "1           1        24.095122     37.765720     6.665244     44.343487   \n",
       "2           2        76.795652     33.732826     6.242391     46.402174   \n",
       "\n",
       "    income_mean  inflation_mean  life_expec_mean  total_fer_mean     gdpp_mean  \n",
       "0  33505.757576        4.061970        76.493939        2.232727  31060.727273  \n",
       "1  14461.341463        7.135927        72.898780        2.375488   9643.353659  \n",
       "2   7763.978261        9.124804        62.293478        4.407826   4911.847826  "
      ]
     },
     "execution_count": 36,
     "metadata": {},
     "output_type": "execute_result"
    }
   ],
   "source": [
    "df = pd.concat([pd.Series(list(range(0,3))), km_clusters_child_mort,km_clusters_exports, km_clusters_health,\n",
    "                km_clusters_imports,km_clusters_income, km_clusters_inflation,\n",
    "                km_clusters_life_expec,km_clusters_total_fer,km_clusters_gdpp], axis=1)\n",
    "df.columns = [\"Cluster_ID\", \"child_mort_mean\", \"exports_mean\", \"health_mean\", \"imports_mean\", \"income_mean\", \"inflation_mean\",\n",
    "               \"life_expec_mean\", \"total_fer_mean\", \"gdpp_mean\"]\n",
    "df\n"
   ]
  },
  {
   "cell_type": "code",
   "execution_count": 37,
   "metadata": {},
   "outputs": [
    {
     "data": {
      "image/png": "[encoded data removed]",
      "text/plain": [
       "<Figure size 1080x1080 with 9 Axes>"
      ]
     },
     "metadata": {
      "needs_background": "light"
     },
     "output_type": "display_data"
    }
   ],
   "source": [
    "fig, axs = plt.subplots(3,3,figsize = (15,15))\n",
    "\n",
    "sns.barplot(x=df.Cluster_ID, y=df.child_mort_mean, ax = axs[0,0])\n",
    "sns.barplot(x=df.Cluster_ID, y=df.exports_mean, ax = axs[0,1])\n",
    "sns.barplot(x=df.Cluster_ID, y=df.health_mean, ax = axs[0,2])\n",
    "sns.barplot(x=df.Cluster_ID, y=df.imports_mean, ax = axs[1,0])\n",
    "sns.barplot(x=df.Cluster_ID, y=df.income_mean, ax = axs[1,1])\n",
    "sns.barplot(x=df.Cluster_ID, y=df.life_expec_mean, ax = axs[1,2])\n",
    "sns.barplot(x=df.Cluster_ID, y=df.inflation_mean, ax = axs[2,0])\n",
    "sns.barplot(x=df.Cluster_ID, y=df.total_fer_mean, ax = axs[2,1])\n",
    "sns.barplot(x=df.Cluster_ID, y=df.gdpp_mean, ax = axs[2,2])\n",
    "plt.tight_layout()\n",
    "plt.savefig('Cluster')"
   ]
  },
  {
   "cell_type": "markdown",
   "metadata": {},
   "source": [
    "#### As seen from above plots Cluster 2 contains most backward countries as per social economic parameters given in the dataset"
   ]
  },
  {
   "cell_type": "code",
   "execution_count": 38,
   "metadata": {},
   "outputs": [
    {
     "data": {
      "text/plain": [
       "array(['Afghanistan', 'Angola', 'Benin', 'Botswana', 'Burkina Faso',\n",
       "       'Burundi', 'Cameroon', 'Central African Republic', 'Chad',\n",
       "       'Comoros', 'Congo, Dem. Rep.', 'Congo, Rep.', \"Cote d'Ivoire\",\n",
       "       'Equatorial Guinea', 'Eritrea', 'Gabon', 'Gambia', 'Ghana',\n",
       "       'Guinea', 'Guinea-Bissau', 'Haiti', 'Iraq', 'Kenya', 'Kiribati',\n",
       "       'Lao', 'Lesotho', 'Liberia', 'Madagascar', 'Malawi', 'Mali',\n",
       "       'Mauritania', 'Mozambique', 'Namibia', 'Niger', 'Oman', 'Romania',\n",
       "       'Samoa', 'Serbia', 'Slovak Republic', 'Spain', 'Sweden',\n",
       "       'Tajikistan', 'Tanzania', 'Tunisia', 'Vanuatu', 'Venezuela'],\n",
       "      dtype=object)"
      ]
     },
     "execution_count": 38,
     "metadata": {},
     "output_type": "execute_result"
    }
   ],
   "source": [
    "pca_new_km[pca_new_km.Cluster_ID == 2].country.values\n",
    "#backward_countries_child_mort=country_final[country_final.ClusterID==0].sort_values(by='child_mort',ascending=False)\n",
    "#country_final_gdpp = country_final[country_final.ClusterID==0].sort_values(by='gdpp').head(12)\n",
    "#backward_countries_income = country_final[country_final.ClusterID==0].sort_values(by='income').head(12)"
   ]
  },
  {
   "cell_type": "markdown",
   "metadata": {},
   "source": [
    "### Recommendation"
   ]
  },
  {
   "cell_type": "markdown",
   "metadata": {},
   "source": [
    "##### The countries mentioned below are the most backward countries as per socio economic parameters.Hence it is recommended that these countries are in dire need of aid from HELP NGO fund of 10 million.\n",
    "\n",
    "Afghanistan\n",
    "Angola\n",
    "Benin\n",
    "Botswana\n",
    "Burkina Faso\n",
    "Burundi\n",
    "Cameroon\n",
    "Central African Republic\n",
    "Chad\n",
    "Comoros\n",
    "Congo Dem. Rep.\n",
    "Congo, Rep\n",
    "Cote d'Ivoire\n",
    "Equatorial Guinea\n",
    "Eritrea\n",
    "Gabon\n",
    "Gambia\n",
    "Ghana\n",
    "Guinea\n",
    "Guinea-Bissau\n",
    "Haiti\n",
    "Iraq\n",
    "Kenya\n",
    "Kiribati\n",
    "Lao\n",
    "Lesotho\n",
    "Liberia\n",
    "Madagascar\n",
    "Malawi\n",
    "Mali\n",
    "Mauritania\n",
    "Mozambique\n",
    "Namibia\n",
    "Niger\n",
    "Oman\n",
    "Romania\n",
    "Samoa\n",
    "Serbia\n",
    "Slovak Republic\n",
    "Spain\n",
    "Sweden\n",
    "Tajikistan\n",
    "Tanzania\n",
    "Tunisia\n",
    "Vanuatu\n",
    "Venezuela"
   ]
  }
 ],
 "metadata": {
  "kernelspec": {
   "display_name": "Python 3",
   "language": "python",
   "name": "python3"
  },
  "language_info": {
   "codemirror_mode": {
    "name": "ipython",
    "version": 3
   },
   "file_extension": ".py",
   "mimetype": "text/x-python",
   "name": "python",
   "nbconvert_exporter": "python",
   "pygments_lexer": "ipython3",
   "version": "3.7.1"
  }
 },
 "nbformat": 4,
 "nbformat_minor": 2
}
